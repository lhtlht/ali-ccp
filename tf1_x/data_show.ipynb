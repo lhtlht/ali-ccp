{
 "cells": [
  {
   "cell_type": "code",
   "execution_count": 1,
   "metadata": {},
   "outputs": [],
   "source": [
    "import pandas as pd\n",
    "import numpy as np\n",
    "import os\n",
    "import sys\n",
    "import re\n",
    "import gc\n",
    "import time\n",
    "import warnings\n",
    "warnings.filterwarnings(\"ignore\")\n",
    "#显示所有列\n",
    "pd.set_option('display.max_columns', None)\n",
    "#显示所有行\n",
    "pd.set_option('display.max_rows', None)\n",
    "#设置value的显示长度为100，默认为50\n",
    "pd.set_option('max_colwidth',100)\n",
    "from IPython.core.interactiveshell import InteractiveShell\n",
    "InteractiveShell.ast_node_interactivity = \"all\""
   ]
  },
  {
   "cell_type": "code",
   "execution_count": 2,
   "metadata": {},
   "outputs": [],
   "source": [
    "data_path = \"../data/\"\n",
    "common_features_train_csv = os.path.join(data_path, \"common_features_train.csv\")\n",
    "common_features_test_csv = os.path.join(data_path, \"common_features_test.csv\")\n",
    "\n",
    "sample_skeleton_train_csv = os.path.join(data_path, \"sample_skeleton_train.csv\")\n",
    "sample_skeleton_test_csv = os.path.join(data_path, \"sample_skeleton_test.csv\")"
   ]
  },
  {
   "cell_type": "code",
   "execution_count": 3,
   "metadata": {},
   "outputs": [],
   "source": [
    "fea_cols = ['common_feature_index', 'feature_num2', 'feature_list2']\n",
    "fea_train = pd.read_csv(common_features_train_csv, header=None, names=fea_cols)\n",
    "#sample_cols = ['sample_id', 'click', 'conversion', 'common_feature_index', 'feature_num1', 'feature_list1']\n",
    "#sample_train = pd.read_csv(sample_skeleton_train_csv, nrows=100000, header=None, names=sample_cols)"
   ]
  },
  {
   "cell_type": "code",
   "execution_count": 64,
   "metadata": {},
   "outputs": [],
   "source": [
    "sample_train = sample_train.merge(fea_train, how='left', on='common_feature_index')"
   ]
  },
  {
   "cell_type": "code",
   "execution_count": 5,
   "metadata": {},
   "outputs": [
    {
     "data": {
      "text/plain": [
       "(730600, 3)"
      ]
     },
     "execution_count": 5,
     "metadata": {},
     "output_type": "execute_result"
    }
   ],
   "source": [
    "fea_train.shape"
   ]
  },
  {
   "cell_type": "code",
   "execution_count": 4,
   "metadata": {},
   "outputs": [
    {
     "name": "stdout",
     "output_type": "stream",
     "text": [
      "ss\n"
     ]
    }
   ],
   "source": [
    "from collections import defaultdict \n",
    "from tqdm import tqdm\n",
    "def feature_list_split(x):\n",
    "    feature_dict = defaultdict(list)\n",
    "    for fea in x.split('\\x01'):\n",
    "        field = re.split('\\x02', fea)\n",
    "        #fea = re.split('\\x03', field[1])\n",
    "        #feature_dict[field[0]].append({'feature_id':fea[0], 'value':fea[1]})\n",
    "        feature_dict[field[0]].append(field[1])\n",
    "    return feature_dict\n",
    "\n",
    "sample_train_df = []\n",
    "for row in fea_train.itertuples():    \n",
    "    fea_list2 = feature_list_split(row.feature_list2)\n",
    "    fea_list2['common_feature_index'] = row.common_feature_index\n",
    "    sample_train_df.append(fea_list2)\n",
    "print('ss')\n",
    "fea_train_df = pd.DataFrame(sample_train_df)\n"
   ]
  },
  {
   "cell_type": "code",
   "execution_count": 5,
   "metadata": {},
   "outputs": [
    {
     "data": {
      "text/html": [
       "<div>\n",
       "<style scoped>\n",
       "    .dataframe tbody tr th:only-of-type {\n",
       "        vertical-align: middle;\n",
       "    }\n",
       "\n",
       "    .dataframe tbody tr th {\n",
       "        vertical-align: top;\n",
       "    }\n",
       "\n",
       "    .dataframe thead th {\n",
       "        text-align: right;\n",
       "    }\n",
       "</style>\n",
       "<table border=\"1\" class=\"dataframe\">\n",
       "  <thead>\n",
       "    <tr style=\"text-align: right;\">\n",
       "      <th></th>\n",
       "      <th>101</th>\n",
       "      <th>125</th>\n",
       "      <th>126</th>\n",
       "      <th>127</th>\n",
       "      <th>128</th>\n",
       "      <th>129</th>\n",
       "      <th>150_14</th>\n",
       "      <th>121</th>\n",
       "      <th>127_14</th>\n",
       "      <th>109_14</th>\n",
       "      <th>110_14</th>\n",
       "      <th>122</th>\n",
       "      <th>124</th>\n",
       "      <th>common_feature_index</th>\n",
       "    </tr>\n",
       "  </thead>\n",
       "  <tbody>\n",
       "    <tr>\n",
       "      <th>0</th>\n",
       "      <td>[31319\u00031.0]</td>\n",
       "      <td>[3438774\u00031.0]</td>\n",
       "      <td>[3438779\u00031.0]</td>\n",
       "      <td>[3438782\u00031.0]</td>\n",
       "      <td>[3864885\u00031.0]</td>\n",
       "      <td>[3864888\u00031.0]</td>\n",
       "      <td>[3878882\u00033.28343, 3960939\u00032.44235, 3900579\u00031.17865, 3930226\u00030.45932, 3877365\u00031.94591, 3875103\u00030....</td>\n",
       "      <td>[3438687\u00031.0]</td>\n",
       "      <td>[3781041\u00030.69315, 3850935\u00030.69315, 3850235\u00030.69315, 3638768\u00030.69315, 3858194\u00031.94591, 3592796\u00030....</td>\n",
       "      <td>[450877\u00032.30259, 447414\u00031.79176, 446442\u00030.69315, 450989\u00030.69315, 451636\u00032.77259, 449082\u00030.69315,...</td>\n",
       "      <td>[959961\u00030.69315, 626214\u00030.69315, 2869501\u00031.09861, 599915\u00030.69315, 3316348\u00032.99573, 3040501\u00030.693...</td>\n",
       "      <td>[3438762\u00031.0]</td>\n",
       "      <td>[3438769\u00031.0]</td>\n",
       "      <td>84dceed2e3a667f8</td>\n",
       "    </tr>\n",
       "    <tr>\n",
       "      <th>1</th>\n",
       "      <td>[392326\u00031.0]</td>\n",
       "      <td>[3438772\u00031.0]</td>\n",
       "      <td>[3438778\u00031.0]</td>\n",
       "      <td>[3438782\u00031.0]</td>\n",
       "      <td>[3864885\u00031.0]</td>\n",
       "      <td>[3864888\u00031.0]</td>\n",
       "      <td>[3894565\u00034.37156, 3897971\u00031.50408, 3880577\u00031.73466, 3892155\u00032.77259, 3942047\u00032.19722, 3881648\u00031....</td>\n",
       "      <td>[3438725\u00031.0]</td>\n",
       "      <td>[3716224\u00031.94591, 3514627\u00030.69315, 3772871\u00030.69315, 3543283\u00031.60944, 3728186\u00030.69315, 3710808\u00031....</td>\n",
       "      <td>[447553\u00031.38629, 445995\u00032.19722, 450247\u00032.83321, 449070\u00030.69315, 450980\u00030.69315, 445135\u00030.69315,...</td>\n",
       "      <td>[1038736\u00031.60944, 2254657\u00030.69315, 458138\u00030.69315, 3330858\u00031.79176, 1001649\u00030.69315, 770331\u00031.60...</td>\n",
       "      <td>[3438760\u00031.0]</td>\n",
       "      <td>[3438769\u00031.0]</td>\n",
       "      <td>0000350f0c2121e7</td>\n",
       "    </tr>\n",
       "    <tr>\n",
       "      <th>2</th>\n",
       "      <td>NaN</td>\n",
       "      <td>[3438773\u00031.0]</td>\n",
       "      <td>NaN</td>\n",
       "      <td>[3438781\u00031.0]</td>\n",
       "      <td>[3864885\u00031.0]</td>\n",
       "      <td>[3864889\u00031.0]</td>\n",
       "      <td>NaN</td>\n",
       "      <td>[3438658\u00031.0]</td>\n",
       "      <td>NaN</td>\n",
       "      <td>NaN</td>\n",
       "      <td>NaN</td>\n",
       "      <td>[3438761\u00031.0]</td>\n",
       "      <td>[3438769\u00031.0]</td>\n",
       "      <td>000091a89d1867ab</td>\n",
       "    </tr>\n",
       "    <tr>\n",
       "      <th>3</th>\n",
       "      <td>[65187\u00031.0]</td>\n",
       "      <td>[3438773\u00031.0]</td>\n",
       "      <td>NaN</td>\n",
       "      <td>[3438782\u00031.0]</td>\n",
       "      <td>[3864885\u00031.0]</td>\n",
       "      <td>NaN</td>\n",
       "      <td>[3916684\u00032.3979, 3940798\u00031.07056, 3892368\u00031.6259, 3914634\u00030.55962, 3933111\u00031.57547, 3952471\u00031.29...</td>\n",
       "      <td>[3438658\u00031.0]</td>\n",
       "      <td>[3760313\u00030.69315, 3850235\u00030.69315, 3772984\u00030.69315, 3850664\u00030.69315, 3732988\u00030.69315, 3698096\u00032....</td>\n",
       "      <td>[449177\u00030.69315, 450877\u00031.09861, 450300\u00032.70805, 450995\u00030.69315, 451199\u00031.09861, 449082\u00031.79176,...</td>\n",
       "      <td>[2806919\u00030.69315, 1929728\u00032.3979, 1043840\u00031.09861, 816402\u00030.69315, 718351\u00030.69315, 2750608\u00030.693...</td>\n",
       "      <td>[3438761\u00031.0]</td>\n",
       "      <td>[3438769\u00031.0]</td>\n",
       "      <td>0001a4114b0ae8bf</td>\n",
       "    </tr>\n",
       "    <tr>\n",
       "      <th>4</th>\n",
       "      <td>[241189\u00031.0]</td>\n",
       "      <td>[3438774\u00031.0]</td>\n",
       "      <td>[3438778\u00031.0]</td>\n",
       "      <td>[3438782\u00031.0]</td>\n",
       "      <td>[3864885\u00031.0]</td>\n",
       "      <td>[3864888\u00031.0]</td>\n",
       "      <td>[3909150\u00030.84715, 3933013\u00034.44265, 3934083\u00033.3322, 3874258\u00034.09988, 3948695\u00033.82864, 3911372\u00031.5...</td>\n",
       "      <td>[3438685\u00031.0]</td>\n",
       "      <td>[3530778\u00031.09861, 3689932\u00031.79176, 3497595\u00030.69315, 3569442\u00033.2581, 3569123\u00031.09861, 3686440\u00031.6...</td>\n",
       "      <td>[449099\u00032.70805, 455676\u00031.09861, 449360\u00031.60944, 453249\u00031.38629, 449425\u00030.69315, 456071\u00030.69315,...</td>\n",
       "      <td>[655378\u00030.69315, 1028572\u00030.69315, 1192214\u00030.69315, 1706565\u00031.09861, 2277523\u00030.69315, 3003906\u00033.4...</td>\n",
       "      <td>[3438762\u00031.0]</td>\n",
       "      <td>[3438769\u00031.0]</td>\n",
       "      <td>0001def19d7cb335</td>\n",
       "    </tr>\n",
       "  </tbody>\n",
       "</table>\n",
       "</div>"
      ],
      "text/plain": [
       "            101            125            126            127            128  \\\n",
       "0   [31319\u00031.0]  [3438774\u00031.0]  [3438779\u00031.0]  [3438782\u00031.0]  [3864885\u00031.0]   \n",
       "1  [392326\u00031.0]  [3438772\u00031.0]  [3438778\u00031.0]  [3438782\u00031.0]  [3864885\u00031.0]   \n",
       "2           NaN  [3438773\u00031.0]            NaN  [3438781\u00031.0]  [3864885\u00031.0]   \n",
       "3   [65187\u00031.0]  [3438773\u00031.0]            NaN  [3438782\u00031.0]  [3864885\u00031.0]   \n",
       "4  [241189\u00031.0]  [3438774\u00031.0]  [3438778\u00031.0]  [3438782\u00031.0]  [3864885\u00031.0]   \n",
       "\n",
       "             129  \\\n",
       "0  [3864888\u00031.0]   \n",
       "1  [3864888\u00031.0]   \n",
       "2  [3864889\u00031.0]   \n",
       "3            NaN   \n",
       "4  [3864888\u00031.0]   \n",
       "\n",
       "                                                                                                150_14  \\\n",
       "0  [3878882\u00033.28343, 3960939\u00032.44235, 3900579\u00031.17865, 3930226\u00030.45932, 3877365\u00031.94591, 3875103\u00030....   \n",
       "1  [3894565\u00034.37156, 3897971\u00031.50408, 3880577\u00031.73466, 3892155\u00032.77259, 3942047\u00032.19722, 3881648\u00031....   \n",
       "2                                                                                                  NaN   \n",
       "3  [3916684\u00032.3979, 3940798\u00031.07056, 3892368\u00031.6259, 3914634\u00030.55962, 3933111\u00031.57547, 3952471\u00031.29...   \n",
       "4  [3909150\u00030.84715, 3933013\u00034.44265, 3934083\u00033.3322, 3874258\u00034.09988, 3948695\u00033.82864, 3911372\u00031.5...   \n",
       "\n",
       "             121  \\\n",
       "0  [3438687\u00031.0]   \n",
       "1  [3438725\u00031.0]   \n",
       "2  [3438658\u00031.0]   \n",
       "3  [3438658\u00031.0]   \n",
       "4  [3438685\u00031.0]   \n",
       "\n",
       "                                                                                                127_14  \\\n",
       "0  [3781041\u00030.69315, 3850935\u00030.69315, 3850235\u00030.69315, 3638768\u00030.69315, 3858194\u00031.94591, 3592796\u00030....   \n",
       "1  [3716224\u00031.94591, 3514627\u00030.69315, 3772871\u00030.69315, 3543283\u00031.60944, 3728186\u00030.69315, 3710808\u00031....   \n",
       "2                                                                                                  NaN   \n",
       "3  [3760313\u00030.69315, 3850235\u00030.69315, 3772984\u00030.69315, 3850664\u00030.69315, 3732988\u00030.69315, 3698096\u00032....   \n",
       "4  [3530778\u00031.09861, 3689932\u00031.79176, 3497595\u00030.69315, 3569442\u00033.2581, 3569123\u00031.09861, 3686440\u00031.6...   \n",
       "\n",
       "                                                                                                109_14  \\\n",
       "0  [450877\u00032.30259, 447414\u00031.79176, 446442\u00030.69315, 450989\u00030.69315, 451636\u00032.77259, 449082\u00030.69315,...   \n",
       "1  [447553\u00031.38629, 445995\u00032.19722, 450247\u00032.83321, 449070\u00030.69315, 450980\u00030.69315, 445135\u00030.69315,...   \n",
       "2                                                                                                  NaN   \n",
       "3  [449177\u00030.69315, 450877\u00031.09861, 450300\u00032.70805, 450995\u00030.69315, 451199\u00031.09861, 449082\u00031.79176,...   \n",
       "4  [449099\u00032.70805, 455676\u00031.09861, 449360\u00031.60944, 453249\u00031.38629, 449425\u00030.69315, 456071\u00030.69315,...   \n",
       "\n",
       "                                                                                                110_14  \\\n",
       "0  [959961\u00030.69315, 626214\u00030.69315, 2869501\u00031.09861, 599915\u00030.69315, 3316348\u00032.99573, 3040501\u00030.693...   \n",
       "1  [1038736\u00031.60944, 2254657\u00030.69315, 458138\u00030.69315, 3330858\u00031.79176, 1001649\u00030.69315, 770331\u00031.60...   \n",
       "2                                                                                                  NaN   \n",
       "3  [2806919\u00030.69315, 1929728\u00032.3979, 1043840\u00031.09861, 816402\u00030.69315, 718351\u00030.69315, 2750608\u00030.693...   \n",
       "4  [655378\u00030.69315, 1028572\u00030.69315, 1192214\u00030.69315, 1706565\u00031.09861, 2277523\u00030.69315, 3003906\u00033.4...   \n",
       "\n",
       "             122            124 common_feature_index  \n",
       "0  [3438762\u00031.0]  [3438769\u00031.0]     84dceed2e3a667f8  \n",
       "1  [3438760\u00031.0]  [3438769\u00031.0]     0000350f0c2121e7  \n",
       "2  [3438761\u00031.0]  [3438769\u00031.0]     000091a89d1867ab  \n",
       "3  [3438761\u00031.0]  [3438769\u00031.0]     0001a4114b0ae8bf  \n",
       "4  [3438762\u00031.0]  [3438769\u00031.0]     0001def19d7cb335  "
      ]
     },
     "execution_count": 5,
     "metadata": {},
     "output_type": "execute_result"
    }
   ],
   "source": [
    "fea_train_df.head()"
   ]
  },
  {
   "cell_type": "code",
   "execution_count": 6,
   "metadata": {},
   "outputs": [
    {
     "name": "stdout",
     "output_type": "stream",
     "text": [
      "<class 'pandas.core.frame.DataFrame'>\n",
      "RangeIndex: 730600 entries, 0 to 730599\n",
      "Data columns (total 14 columns):\n",
      " #   Column                Non-Null Count   Dtype \n",
      "---  ------                --------------   ----- \n",
      " 0   101                   728224 non-null  object\n",
      " 1   125                   633058 non-null  object\n",
      " 2   126                   299098 non-null  object\n",
      " 3   127                   633058 non-null  object\n",
      " 4   128                   633058 non-null  object\n",
      " 5   129                   455523 non-null  object\n",
      " 6   150_14                727990 non-null  object\n",
      " 7   121                   633058 non-null  object\n",
      " 8   127_14                722026 non-null  object\n",
      " 9   109_14                722781 non-null  object\n",
      " 10  110_14                722771 non-null  object\n",
      " 11  122                   633058 non-null  object\n",
      " 12  124                   633058 non-null  object\n",
      " 13  common_feature_index  730600 non-null  object\n",
      "dtypes: object(14)\n",
      "memory usage: 78.0+ MB\n"
     ]
    }
   ],
   "source": [
    "fea_train_df.info()"
   ]
  }
 ],
 "metadata": {
  "kernelspec": {
   "display_name": "Python 3",
   "language": "python",
   "name": "python3"
  },
  "language_info": {
   "codemirror_mode": {
    "name": "ipython",
    "version": 3
   },
   "file_extension": ".py",
   "mimetype": "text/x-python",
   "name": "python",
   "nbconvert_exporter": "python",
   "pygments_lexer": "ipython3",
   "version": "3.8.5"
  }
 },
 "nbformat": 4,
 "nbformat_minor": 4
}
