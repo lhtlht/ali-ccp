{
 "cells": [
  {
   "cell_type": "code",
   "execution_count": 17,
   "metadata": {},
   "outputs": [],
   "source": [
    "import pandas as pd\n",
    "import numpy as np\n",
    "import os\n",
    "import sys\n",
    "import re\n",
    "import gc\n",
    "import time\n",
    "import warnings\n",
    "warnings.filterwarnings(\"ignore\")\n",
    "#显示所有列\n",
    "pd.set_option('display.max_columns', None)\n",
    "#显示所有行\n",
    "pd.set_option('display.max_rows', None)\n",
    "#设置value的显示长度为100，默认为50\n",
    "pd.set_option('max_colwidth',100)\n",
    "from IPython.core.interactiveshell import InteractiveShell\n",
    "InteractiveShell.ast_node_interactivity = \"all\""
   ]
  },
  {
   "cell_type": "code",
   "execution_count": 5,
   "metadata": {},
   "outputs": [],
   "source": [
    "data_path = \"../data/\"\n",
    "common_features_train_csv = os.path.join(data_path, \"common_features_train.csv\")\n",
    "common_features_test_csv = os.path.join(data_path, \"common_features_test.csv\")\n",
    "\n",
    "sample_skeleton_train_csv = os.path.join(data_path, \"sample_skeleton_train.csv\")\n",
    "sample_skeleton_test_csv = os.path.join(data_path, \"sample_skeleton_test.csv\")"
   ]
  },
  {
   "cell_type": "code",
   "execution_count": 63,
   "metadata": {},
   "outputs": [],
   "source": [
    "fea_cols = ['common_feature_index', 'feature_num2', 'feature_list2']\n",
    "fea_train = pd.read_csv(common_features_train_csv, header=None, names=fea_cols)\n",
    "sample_cols = ['sample_id', 'click', 'conversion', 'common_feature_index', 'feature_num1', 'feature_list1']\n",
    "sample_train = pd.read_csv(sample_skeleton_train_csv, nrows=100000, header=None, names=sample_cols)"
   ]
  },
  {
   "cell_type": "code",
   "execution_count": 64,
   "metadata": {},
   "outputs": [],
   "source": [
    "sample_train = sample_train.merge(fea_train, how='left', on='common_feature_index')"
   ]
  },
  {
   "cell_type": "code",
   "execution_count": 65,
   "metadata": {},
   "outputs": [
    {
     "data": {
      "text/html": [
       "<div>\n",
       "<style scoped>\n",
       "    .dataframe tbody tr th:only-of-type {\n",
       "        vertical-align: middle;\n",
       "    }\n",
       "\n",
       "    .dataframe tbody tr th {\n",
       "        vertical-align: top;\n",
       "    }\n",
       "\n",
       "    .dataframe thead th {\n",
       "        text-align: right;\n",
       "    }\n",
       "</style>\n",
       "<table border=\"1\" class=\"dataframe\">\n",
       "  <thead>\n",
       "    <tr style=\"text-align: right;\">\n",
       "      <th></th>\n",
       "      <th>sample_id</th>\n",
       "      <th>click</th>\n",
       "      <th>conversion</th>\n",
       "      <th>common_feature_index</th>\n",
       "      <th>feature_num1</th>\n",
       "      <th>feature_list1</th>\n",
       "      <th>feature_num2</th>\n",
       "      <th>feature_list2</th>\n",
       "    </tr>\n",
       "  </thead>\n",
       "  <tbody>\n",
       "    <tr>\n",
       "      <th>0</th>\n",
       "      <td>1</td>\n",
       "      <td>0</td>\n",
       "      <td>0</td>\n",
       "      <td>bacff91692951881</td>\n",
       "      <td>9</td>\n",
       "      <td>210\u00029052218\u00031.0\u0001210\u00029064553\u00031.0\u0001210\u00029093445\u00031.0\u0001216\u00029154780\u00031.0\u0001301\u00029351665\u00031.0\u0001205\u00024186222\u00031.0\u0001...</td>\n",
       "      <td>867</td>\n",
       "      <td>121\u00023438658\u00031.0\u0001122\u00023438762\u00031.0\u0001101\u000231390\u00031.0\u0001124\u00023438769\u00031.0\u0001125\u00023438774\u00031.0\u0001127\u00023438782\u00031.0\u000112...</td>\n",
       "    </tr>\n",
       "    <tr>\n",
       "      <th>1</th>\n",
       "      <td>2</td>\n",
       "      <td>0</td>\n",
       "      <td>0</td>\n",
       "      <td>bacff91692951881</td>\n",
       "      <td>10</td>\n",
       "      <td>210\u00029109732\u00031.0\u0001210\u00029046284\u00031.0\u0001210\u00029099035\u00031.0\u0001210\u00029046540\u00031.0\u0001210\u00029104107\u00031.0\u0001216\u00029188757\u00031.0\u0001...</td>\n",
       "      <td>867</td>\n",
       "      <td>121\u00023438658\u00031.0\u0001122\u00023438762\u00031.0\u0001101\u000231390\u00031.0\u0001124\u00023438769\u00031.0\u0001125\u00023438774\u00031.0\u0001127\u00023438782\u00031.0\u000112...</td>\n",
       "    </tr>\n",
       "    <tr>\n",
       "      <th>2</th>\n",
       "      <td>3</td>\n",
       "      <td>1</td>\n",
       "      <td>0</td>\n",
       "      <td>bacff91692951881</td>\n",
       "      <td>20</td>\n",
       "      <td>210\u00029089731\u00031.0\u0001210\u00029047560\u00031.0\u0001509\u00029511769\u00032.30259\u0001508\u00029354837\u00035.14166\u0001702\u00029867762\u00034.02535\u0001853\u0002...</td>\n",
       "      <td>867</td>\n",
       "      <td>121\u00023438658\u00031.0\u0001122\u00023438762\u00031.0\u0001101\u000231390\u00031.0\u0001124\u00023438769\u00031.0\u0001125\u00023438774\u00031.0\u0001127\u00023438782\u00031.0\u000112...</td>\n",
       "    </tr>\n",
       "    <tr>\n",
       "      <th>3</th>\n",
       "      <td>4</td>\n",
       "      <td>0</td>\n",
       "      <td>0</td>\n",
       "      <td>bacff91692951881</td>\n",
       "      <td>13</td>\n",
       "      <td>301\u00029351665\u00031.0\u0001210\u00029050364\u00031.0\u0001210\u00029083388\u00031.0\u0001210\u00029104229\u00031.0\u0001210\u00029035395\u00031.0\u0001508\u00029354448\u00032.39...</td>\n",
       "      <td>867</td>\n",
       "      <td>121\u00023438658\u00031.0\u0001122\u00023438762\u00031.0\u0001101\u000231390\u00031.0\u0001124\u00023438769\u00031.0\u0001125\u00023438774\u00031.0\u0001127\u00023438782\u00031.0\u000112...</td>\n",
       "    </tr>\n",
       "    <tr>\n",
       "      <th>4</th>\n",
       "      <td>5</td>\n",
       "      <td>0</td>\n",
       "      <td>0</td>\n",
       "      <td>bacff91692951881</td>\n",
       "      <td>9</td>\n",
       "      <td>205\u00024945663\u00031.0\u0001301\u00029351665\u00031.0\u0001216\u00029172179\u00031.0\u0001210\u00029028389\u00031.0\u0001210\u00029062272\u00031.0\u0001210\u00029030554\u00031.0\u0001...</td>\n",
       "      <td>867</td>\n",
       "      <td>121\u00023438658\u00031.0\u0001122\u00023438762\u00031.0\u0001101\u000231390\u00031.0\u0001124\u00023438769\u00031.0\u0001125\u00023438774\u00031.0\u0001127\u00023438782\u00031.0\u000112...</td>\n",
       "    </tr>\n",
       "  </tbody>\n",
       "</table>\n",
       "</div>"
      ],
      "text/plain": [
       "   sample_id  click  conversion common_feature_index  feature_num1  \\\n",
       "0          1      0           0     bacff91692951881             9   \n",
       "1          2      0           0     bacff91692951881            10   \n",
       "2          3      1           0     bacff91692951881            20   \n",
       "3          4      0           0     bacff91692951881            13   \n",
       "4          5      0           0     bacff91692951881             9   \n",
       "\n",
       "                                                                                         feature_list1  \\\n",
       "0  210\u00029052218\u00031.0\u0001210\u00029064553\u00031.0\u0001210\u00029093445\u00031.0\u0001216\u00029154780\u00031.0\u0001301\u00029351665\u00031.0\u0001205\u00024186222\u00031.0\u0001...   \n",
       "1  210\u00029109732\u00031.0\u0001210\u00029046284\u00031.0\u0001210\u00029099035\u00031.0\u0001210\u00029046540\u00031.0\u0001210\u00029104107\u00031.0\u0001216\u00029188757\u00031.0\u0001...   \n",
       "2  210\u00029089731\u00031.0\u0001210\u00029047560\u00031.0\u0001509\u00029511769\u00032.30259\u0001508\u00029354837\u00035.14166\u0001702\u00029867762\u00034.02535\u0001853\u0002...   \n",
       "3  301\u00029351665\u00031.0\u0001210\u00029050364\u00031.0\u0001210\u00029083388\u00031.0\u0001210\u00029104229\u00031.0\u0001210\u00029035395\u00031.0\u0001508\u00029354448\u00032.39...   \n",
       "4  205\u00024945663\u00031.0\u0001301\u00029351665\u00031.0\u0001216\u00029172179\u00031.0\u0001210\u00029028389\u00031.0\u0001210\u00029062272\u00031.0\u0001210\u00029030554\u00031.0\u0001...   \n",
       "\n",
       "   feature_num2  \\\n",
       "0           867   \n",
       "1           867   \n",
       "2           867   \n",
       "3           867   \n",
       "4           867   \n",
       "\n",
       "                                                                                         feature_list2  \n",
       "0  121\u00023438658\u00031.0\u0001122\u00023438762\u00031.0\u0001101\u000231390\u00031.0\u0001124\u00023438769\u00031.0\u0001125\u00023438774\u00031.0\u0001127\u00023438782\u00031.0\u000112...  \n",
       "1  121\u00023438658\u00031.0\u0001122\u00023438762\u00031.0\u0001101\u000231390\u00031.0\u0001124\u00023438769\u00031.0\u0001125\u00023438774\u00031.0\u0001127\u00023438782\u00031.0\u000112...  \n",
       "2  121\u00023438658\u00031.0\u0001122\u00023438762\u00031.0\u0001101\u000231390\u00031.0\u0001124\u00023438769\u00031.0\u0001125\u00023438774\u00031.0\u0001127\u00023438782\u00031.0\u000112...  \n",
       "3  121\u00023438658\u00031.0\u0001122\u00023438762\u00031.0\u0001101\u000231390\u00031.0\u0001124\u00023438769\u00031.0\u0001125\u00023438774\u00031.0\u0001127\u00023438782\u00031.0\u000112...  \n",
       "4  121\u00023438658\u00031.0\u0001122\u00023438762\u00031.0\u0001101\u000231390\u00031.0\u0001124\u00023438769\u00031.0\u0001125\u00023438774\u00031.0\u0001127\u00023438782\u00031.0\u000112...  "
      ]
     },
     "execution_count": 65,
     "metadata": {},
     "output_type": "execute_result"
    }
   ],
   "source": [
    "sample_train.head()"
   ]
  },
  {
   "cell_type": "code",
   "execution_count": 54,
   "metadata": {
    "scrolled": false
   },
   "outputs": [],
   "source": [
    "from collections import defaultdict \n",
    "def feature_list_split(x):\n",
    "    feature_dict = defaultdict(list)\n",
    "    for fea in x.split('\\x01'):\n",
    "        field = re.split('\\x02', fea)\n",
    "        fea = re.split('\\x03', field[1])\n",
    "        feature_dict[field[0]].append({'feature_id':fea[0], 'value':fea[1]})\n",
    "    \n",
    "#     print('-'*100)\n",
    "#     for i in feature_dict:\n",
    "#         print(i, len(feature_dict[i]))\n",
    "#     print('-'*100)\n",
    "#     print(len(feature_dict))\n",
    "    return feature_dict\n",
    "dd = fea_train['feature_list'].map(feature_list_split)"
   ]
  },
  {
   "cell_type": "code",
   "execution_count": 57,
   "metadata": {},
   "outputs": [
    {
     "data": {
      "text/html": [
       "<div>\n",
       "<style scoped>\n",
       "    .dataframe tbody tr th:only-of-type {\n",
       "        vertical-align: middle;\n",
       "    }\n",
       "\n",
       "    .dataframe tbody tr th {\n",
       "        vertical-align: top;\n",
       "    }\n",
       "\n",
       "    .dataframe thead th {\n",
       "        text-align: right;\n",
       "    }\n",
       "</style>\n",
       "<table border=\"1\" class=\"dataframe\">\n",
       "  <thead>\n",
       "    <tr style=\"text-align: right;\">\n",
       "      <th></th>\n",
       "      <th>sample_id</th>\n",
       "      <th>click</th>\n",
       "      <th>conversion</th>\n",
       "      <th>common_feature_index</th>\n",
       "      <th>feature_num</th>\n",
       "      <th>feature_list</th>\n",
       "    </tr>\n",
       "  </thead>\n",
       "  <tbody>\n",
       "    <tr>\n",
       "      <th>0</th>\n",
       "      <td>1</td>\n",
       "      <td>0</td>\n",
       "      <td>0</td>\n",
       "      <td>23bd0f75de327c60</td>\n",
       "      <td>14</td>\n",
       "      <td>216\u00029181078\u00031.0\u0001301\u00029351665\u00031.0\u0001205\u00025587143\u00031.0\u0001206\u00028315277\u00031.0\u0001207\u00028801026\u00031.0\u0001702\u00029878755\u00032.07...</td>\n",
       "    </tr>\n",
       "    <tr>\n",
       "      <th>1</th>\n",
       "      <td>2</td>\n",
       "      <td>0</td>\n",
       "      <td>0</td>\n",
       "      <td>23bd0f75de327c60</td>\n",
       "      <td>15</td>\n",
       "      <td>205\u00025662732\u00031.0\u0001206\u00028316893\u00031.0\u0001207\u00028987328\u00031.0\u0001853\u000210020538\u00032.539\u0001702\u00029896652\u00033.58352\u0001508\u000293551...</td>\n",
       "    </tr>\n",
       "    <tr>\n",
       "      <th>2</th>\n",
       "      <td>3</td>\n",
       "      <td>0</td>\n",
       "      <td>0</td>\n",
       "      <td>23bd0f75de327c60</td>\n",
       "      <td>12</td>\n",
       "      <td>206\u00028315405\u00031.0\u0001205\u00026539512\u00031.0\u0001301\u00029351665\u00031.0\u0001216\u00029273427\u00031.0\u0001210\u00029100479\u00031.0\u0001210\u00029084127\u00031.0\u0001...</td>\n",
       "    </tr>\n",
       "    <tr>\n",
       "      <th>3</th>\n",
       "      <td>4</td>\n",
       "      <td>0</td>\n",
       "      <td>0</td>\n",
       "      <td>23bd0f75de327c60</td>\n",
       "      <td>11</td>\n",
       "      <td>509\u00029686171\u00032.99573\u0001210\u00029068992\u00031.0\u0001207\u00028801026\u00031.0\u0001206\u00028315276\u00031.0\u0001205\u00028010649\u00031.0\u0001210\u00029104804\u0003...</td>\n",
       "    </tr>\n",
       "    <tr>\n",
       "      <th>4</th>\n",
       "      <td>5</td>\n",
       "      <td>0</td>\n",
       "      <td>0</td>\n",
       "      <td>543b0cd53c7d5858</td>\n",
       "      <td>11</td>\n",
       "      <td>206\u00028317093\u00031.0\u0001508\u00029355323\u00032.63906\u0001210\u00029020410\u00031.0\u0001210\u00029045228\u00031.0\u0001210\u00029089073\u00031.0\u0001210\u00029035934\u0003...</td>\n",
       "    </tr>\n",
       "  </tbody>\n",
       "</table>\n",
       "</div>"
      ],
      "text/plain": [
       "   sample_id  click  conversion common_feature_index  feature_num  \\\n",
       "0          1      0           0     23bd0f75de327c60           14   \n",
       "1          2      0           0     23bd0f75de327c60           15   \n",
       "2          3      0           0     23bd0f75de327c60           12   \n",
       "3          4      0           0     23bd0f75de327c60           11   \n",
       "4          5      0           0     543b0cd53c7d5858           11   \n",
       "\n",
       "                                                                                          feature_list  \n",
       "0  216\u00029181078\u00031.0\u0001301\u00029351665\u00031.0\u0001205\u00025587143\u00031.0\u0001206\u00028315277\u00031.0\u0001207\u00028801026\u00031.0\u0001702\u00029878755\u00032.07...  \n",
       "1  205\u00025662732\u00031.0\u0001206\u00028316893\u00031.0\u0001207\u00028987328\u00031.0\u0001853\u000210020538\u00032.539\u0001702\u00029896652\u00033.58352\u0001508\u000293551...  \n",
       "2  206\u00028315405\u00031.0\u0001205\u00026539512\u00031.0\u0001301\u00029351665\u00031.0\u0001216\u00029273427\u00031.0\u0001210\u00029100479\u00031.0\u0001210\u00029084127\u00031.0\u0001...  \n",
       "3  509\u00029686171\u00032.99573\u0001210\u00029068992\u00031.0\u0001207\u00028801026\u00031.0\u0001206\u00028315276\u00031.0\u0001205\u00028010649\u00031.0\u0001210\u00029104804\u0003...  \n",
       "4  206\u00028317093\u00031.0\u0001508\u00029355323\u00032.63906\u0001210\u00029020410\u00031.0\u0001210\u00029045228\u00031.0\u0001210\u00029089073\u00031.0\u0001210\u00029035934\u0003...  "
      ]
     },
     "execution_count": 57,
     "metadata": {},
     "output_type": "execute_result"
    }
   ],
   "source": [
    "sample_test = pd.read_csv(sample_skeleton_test_csv, nrows=100000, header=None, names=sample_cols)\n",
    "sample_test.head()"
   ]
  },
  {
   "cell_type": "code",
   "execution_count": 59,
   "metadata": {},
   "outputs": [
    {
     "data": {
      "text/plain": [
       "0    99958\n",
       "1       42\n",
       "Name: conversion, dtype: int64"
      ]
     },
     "execution_count": 59,
     "metadata": {},
     "output_type": "execute_result"
    }
   ],
   "source": [
    "sample_test['conversion'].value_counts()"
   ]
  },
  {
   "cell_type": "code",
   "execution_count": null,
   "metadata": {},
   "outputs": [],
   "source": []
  }
 ],
 "metadata": {
  "kernelspec": {
   "display_name": "Python 3",
   "language": "python",
   "name": "python3"
  },
  "language_info": {
   "codemirror_mode": {
    "name": "ipython",
    "version": 3
   },
   "file_extension": ".py",
   "mimetype": "text/x-python",
   "name": "python",
   "nbconvert_exporter": "python",
   "pygments_lexer": "ipython3",
   "version": "3.8.5"
  }
 },
 "nbformat": 4,
 "nbformat_minor": 4
}
